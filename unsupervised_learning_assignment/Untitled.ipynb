{
 "cells": [
  {
   "cell_type": "markdown",
   "id": "2e55c724-9a64-41d4-b48e-b22a44874a8b",
   "metadata": {},
   "source": [
    "# Unupervised Learning"
   ]
  },
  {
   "cell_type": "code",
   "execution_count": 1,
   "id": "c20db8ea-9e80-4d4b-b972-9718589dcd41",
   "metadata": {},
   "outputs": [],
   "source": [
    "import pandas\n",
    "import numpy"
   ]
  },
  {
   "cell_type": "code",
   "execution_count": 4,
   "id": "5b791166-d923-4708-98fa-f7bd819c9686",
   "metadata": {},
   "outputs": [],
   "source": [
    "# K-Means Cluster"
   ]
  },
  {
   "cell_type": "code",
   "execution_count": 10,
   "id": "5018cff0-80db-4088-8c87-b9d37d2ea25b",
   "metadata": {},
   "outputs": [],
   "source": [
    "# Expectation maximization"
   ]
  },
  {
   "cell_type": "code",
   "execution_count": 11,
   "id": "c9f3e9f4-b168-4969-b459-b3d9a515858f",
   "metadata": {},
   "outputs": [],
   "source": [
    "# pca"
   ]
  },
  {
   "cell_type": "code",
   "execution_count": 12,
   "id": "a3938b77-9657-4803-87d1-549e14178599",
   "metadata": {},
   "outputs": [],
   "source": [
    "# ica"
   ]
  },
  {
   "cell_type": "code",
   "execution_count": 9,
   "id": "5103bc34-fd43-433f-bc22-80c3c65dff60",
   "metadata": {},
   "outputs": [],
   "source": [
    "# randomized projections"
   ]
  },
  {
   "cell_type": "code",
   "execution_count": null,
   "id": "70c54962-c317-45cf-891f-9205411740ca",
   "metadata": {},
   "outputs": [],
   "source": [
    "# any other feature selection algorithm you desire"
   ]
  }
 ],
 "metadata": {
  "kernelspec": {
   "display_name": "Python 3 (ipykernel)",
   "language": "python",
   "name": "python3"
  },
  "language_info": {
   "codemirror_mode": {
    "name": "ipython",
    "version": 3
   },
   "file_extension": ".py",
   "mimetype": "text/x-python",
   "name": "python",
   "nbconvert_exporter": "python",
   "pygments_lexer": "ipython3",
   "version": "3.9.7"
  }
 },
 "nbformat": 4,
 "nbformat_minor": 5
}
