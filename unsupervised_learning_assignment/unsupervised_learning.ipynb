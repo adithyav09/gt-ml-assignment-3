{
 "cells": [
  {
   "cell_type": "markdown",
   "id": "2e55c724-9a64-41d4-b48e-b22a44874a8b",
   "metadata": {},
   "source": [
    "# Unupervised Learning\n",
    "---"
   ]
  },
  {
   "cell_type": "markdown",
   "id": "d5396fe3-7640-4d86-a543-02ffd44b7a51",
   "metadata": {
    "tags": []
   },
   "source": [
    "This section will cover steps from importing the data, cleaning/preprocessing, implementing the algorithms required, tuning with hyperparameters, and modeling the accuracy."
   ]
  },
  {
   "cell_type": "markdown",
   "id": "c0554ba7-6cb0-421d-8c7f-9a278a059906",
   "metadata": {},
   "source": [
    "##### Import Dependencies"
   ]
  },
  {
   "cell_type": "code",
   "execution_count": 1,
   "id": "32c21b86-d05b-41d2-af5f-7f438eecb3e9",
   "metadata": {},
   "outputs": [],
   "source": [
    "import os\n",
    "import pandas as pd\n",
    "import numpy as np\n",
    "import matplotlib.pyplot as plt\n",
    "import seaborn as sns\n",
    "import sklearn\n",
    "import warnings\n",
    "import time\n",
    "import sklearn.metrics\n",
    "from sklearn.cluster import KMeans\n",
    "from joblib import Parallel, delayed\n",
    "from sklearn.preprocessing import LabelEncoder\n",
    "from sklearn.metrics import accuracy_score, silhouette_score\n",
    "from sklearn.mixture import GaussianMixture\n",
    "from sklearn.model_selection import train_test_split\n",
    "from sklearn.model_selection import learning_curve\n",
    "from sklearn.model_selection import validation_curve\n",
    "from sklearn.preprocessing import StandardScaler"
   ]
  },
  {
   "cell_type": "markdown",
   "id": "8dcd86ba-69fa-4dc5-87d9-ee7a2bf6b0f0",
   "metadata": {},
   "source": [
    "##### Load data\n",
    "Heart disease and smoke detection datasets"
   ]
  },
  {
   "cell_type": "code",
   "execution_count": 2,
   "id": "879563c4-ca45-4239-baac-de187e2046ae",
   "metadata": {},
   "outputs": [],
   "source": [
    "heart_df = pd.read_csv(\"datasets/heart_attack.csv\")\n",
    "smoke_df = pd.read_csv(\"datasets/smoke_detection_iot.csv\")"
   ]
  },
  {
   "cell_type": "markdown",
   "id": "93a3ff66-533b-4469-babc-8b5d3b67b337",
   "metadata": {
    "tags": []
   },
   "source": [
    "##### Split Data: Heart Disease\n",
    "Create train and test subsets to train the data with the 5 different algorithms for each dataset"
   ]
  },
  {
   "cell_type": "code",
   "execution_count": 3,
   "id": "8433e1b9-8960-49fc-bc76-5f3f62fe587c",
   "metadata": {},
   "outputs": [],
   "source": [
    "X_heart = heart_df.drop(columns=\"output\") \n",
    "y_heart = heart_df[\"output\"]"
   ]
  },
  {
   "cell_type": "code",
   "execution_count": 4,
   "id": "790f0692-4f60-4af3-8de3-bd66940ec470",
   "metadata": {},
   "outputs": [
    {
     "data": {
      "text/plain": [
       "((203, 13), (100, 13))"
      ]
     },
     "execution_count": 4,
     "metadata": {},
     "output_type": "execute_result"
    }
   ],
   "source": [
    "X_train_heart, X_test_heart, y_train_heart, y_test_heart = train_test_split(\n",
    "    X_heart, # predictive variables\n",
    "    y_heart, # target\n",
    "    test_size=0.33, # portion of dataset to allocate to test set\n",
    "    random_state=10, # we are setting the seed here\n",
    ")\n",
    "\n",
    "X_train_heart.shape, X_test_heart.shape"
   ]
  },
  {
   "cell_type": "markdown",
   "id": "680deaac-98ad-4268-af39-e493c36616b8",
   "metadata": {
    "tags": []
   },
   "source": [
    "##### Split Data: Smoke Detection\n",
    "Create train and test subsets to train the data with the 5 different algorithms for each dataset"
   ]
  },
  {
   "cell_type": "code",
   "execution_count": 5,
   "id": "75e8066c-e629-48a4-be5b-faf7239dea62",
   "metadata": {},
   "outputs": [],
   "source": [
    "X_smoke, y_smoke = smoke_df.drop(columns=\"Fire Alarm\"), smoke_df[\"Fire Alarm\"]"
   ]
  },
  {
   "cell_type": "code",
   "execution_count": 6,
   "id": "798191ac-98cd-4ec1-a9cb-a765ee49c864",
   "metadata": {},
   "outputs": [
    {
     "data": {
      "text/plain": [
       "((56367, 15), (6263, 15))"
      ]
     },
     "execution_count": 6,
     "metadata": {},
     "output_type": "execute_result"
    }
   ],
   "source": [
    "X_train, X_test, y_train, y_test = train_test_split(\n",
    "    X_smoke, # predictive variables\n",
    "    y_smoke, # target\n",
    "    test_size=0.1, # portion of dataset to allocate to test set\n",
    "    random_state=10, # we are setting the seed here\n",
    ")\n",
    "\n",
    "X_train.shape, X_test.shape"
   ]
  },
  {
   "cell_type": "markdown",
   "id": "452e77c2-59a6-4452-a937-2be3975e8fd9",
   "metadata": {},
   "source": [
    "## Step 1: Run Clustering Algorithms\n",
    "---"
   ]
  },
  {
   "cell_type": "markdown",
   "id": "47e64104-1b59-45a8-8357-f867b2d88084",
   "metadata": {},
   "source": [
    "### K-Means Clustering\n",
    "- [How to Choose a cluster](https://towardsdatascience.com/10-tips-for-choosing-the-optimal-number-of-clusters-277e93d72d92) <br>\n",
    "- [Silhouette and Elbow](https://www.analyticsvidhya.com/blog/2021/05/k-mean-getting-the-optimal-number-of-clusters/?)"
   ]
  },
  {
   "cell_type": "markdown",
   "id": "4bdeb38b-a98e-4c71-b685-62ff8306e778",
   "metadata": {},
   "source": [
    "##### Train K-Means"
   ]
  },
  {
   "cell_type": "code",
   "execution_count": 31,
   "id": "45a91f48-3003-4986-adf9-de277657823c",
   "metadata": {},
   "outputs": [],
   "source": [
    "def chooseBestKforKMeans(scaled_data, k_range, alpha_k=0.02):\n",
    "    \n",
    "    ans = []\n",
    "    train_times = []\n",
    "\n",
    "    for k in k_range:\n",
    "        \n",
    "        inertia_o = np.square((scaled_data - scaled_data.mean(axis=0))).sum()\n",
    "        start_time = time.time() #start time for wall clock\n",
    "        kmeans = KMeans(n_clusters=k, random_state=0).fit(scaled_data) #train algorithm\n",
    "        end_time = time.time() #end time for wall clock\n",
    "        total_time = end_time-start_time\n",
    "        train_times.append(total_time)\n",
    "        scaled_inertia = kmeans.inertia_ / inertia_o + alpha_k * k\n",
    "        ans.append((k, scaled_inertia))\n",
    "        \n",
    "    results = pd.DataFrame(ans, columns = ['k','Scaled Inertia']).set_index('k')\n",
    "    best_k = results.idxmin()[0]\n",
    "    return best_k, results, train_times"
   ]
  },
  {
   "cell_type": "markdown",
   "id": "10aac5e4-fc48-4275-b22f-73d2a771b0ba",
   "metadata": {
    "tags": []
   },
   "source": [
    "##### Choose Cluster\n",
    "Returns dataframe of best cluster"
   ]
  },
  {
   "cell_type": "code",
   "execution_count": 32,
   "id": "91aa6af4-f017-4c66-8295-7cec464234c4",
   "metadata": {},
   "outputs": [],
   "source": [
    "def get_best_k(results):\n",
    "    min_val = float(results.min())\n",
    "    return results[results['Scaled Inertia']==min_val]"
   ]
  },
  {
   "cell_type": "markdown",
   "id": "8e74cd5c-49b8-47a7-9a98-6f768421c87b",
   "metadata": {},
   "source": [
    "#### Adjusted Interia"
   ]
  },
  {
   "cell_type": "code",
   "execution_count": 33,
   "id": "502dfc3e-ccf0-484b-8f0c-95ce3698f2fa",
   "metadata": {},
   "outputs": [],
   "source": [
    "def adusted_inertia(results):\n",
    "    plt.figure(figsize=(7,4))\n",
    "    plt.plot(results,'-o')\n",
    "    plt.title('Adjusted Inertia for each K')\n",
    "    plt.xlabel('K')\n",
    "    plt.ylabel('Adjusted Inertia')\n",
    "    plt.xticks(range(2,20,1))\n",
    "    plt.show()\n",
    "    return plt"
   ]
  },
  {
   "cell_type": "markdown",
   "id": "5d39507a-9994-4d80-ac11-089ca8ddcc2c",
   "metadata": {},
   "source": [
    "#### Silhouette Analysis\n",
    "- [What is Silhouette Analysis/Coefficient?](https://towardsdatascience.com/silhouette-coefficient-validating-clustering-techniques-e976bb81d10c)"
   ]
  },
  {
   "cell_type": "markdown",
   "id": "c228a516-ec02-40ca-8d05-1255367ee4e9",
   "metadata": {},
   "source": [
    "##### K-Means Clustering SA Plot"
   ]
  },
  {
   "cell_type": "code",
   "execution_count": 34,
   "id": "75fd1267-1146-41e9-a6da-59d8231579b6",
   "metadata": {},
   "outputs": [],
   "source": [
    "def silhouette_analysis_kmeans(n_clusters, X):\n",
    "    \n",
    "    S=[]\n",
    "    \n",
    "    for k in n_clusters:\n",
    "    \n",
    "        # Set the model and its parameters\n",
    "        model = KMeans(n_clusters=k, random_state=10)\n",
    "\n",
    "        # Fit the model\n",
    "        labels = model.fit_predict(X)\n",
    "        \n",
    "        # Calculate Silhoutte Score and append to a list\n",
    "        S.append(silhouette_score(X, labels, metric='euclidean'))\n",
    "    \n",
    "    # Plot the resulting Silhouette scores on a graph\n",
    "    plt.figure()\n",
    "    plt.plot(n_clusters, S, '-o')\n",
    "    plt.xlabel('k')\n",
    "    plt.ylabel('Silhouette Score')\n",
    "    plt.title('Identify the number of clusters using Silhouette Score')\n",
    "    plt.show()\n",
    "    \n",
    "    return plt"
   ]
  },
  {
   "cell_type": "markdown",
   "id": "d48fe322-5c9d-4375-bb75-290e8625bb09",
   "metadata": {},
   "source": [
    "##### Expectation Maximization SA Plot"
   ]
  },
  {
   "cell_type": "code",
   "execution_count": 35,
   "id": "c1fe6610-ae0c-465c-89c0-89ee97059ade",
   "metadata": {},
   "outputs": [],
   "source": [
    "def silhouette_analysis_em(n_clusters, X):\n",
    "    \n",
    "    S=[]\n",
    "    \n",
    "    for k in n_clusters:\n",
    "    \n",
    "        # Set the model and its parameters\n",
    "        model = GaussianMixture(n_components=k, n_init=20, random_state=10, reg_covar=1e-5)\n",
    "\n",
    "        # Fit the model\n",
    "        labels = model.fit_predict(X)\n",
    "        \n",
    "        # Calculate Silhoutte Score and append to a list\n",
    "        S.append(silhouette_score(X, labels, metric='euclidean'))\n",
    "    \n",
    "    # Plot the resulting Silhouette scores on a graph\n",
    "    plt.figure()\n",
    "    plt.plot(n_clusters, S, '-o')\n",
    "    plt.xlabel('k')\n",
    "    plt.ylabel('Silhouette Score')\n",
    "    plt.title('Identify the number of clusters using Silhouette Score')\n",
    "    plt.show()\n",
    "    \n",
    "    return plt"
   ]
  },
  {
   "cell_type": "markdown",
   "id": "3ef1f0f1-9ce2-4e21-b763-fc7f5f55e185",
   "metadata": {},
   "source": [
    "#### Heart Disease Portion"
   ]
  },
  {
   "cell_type": "markdown",
   "id": "a3b31f0d-6d35-4fb9-99d6-e2741aba124f",
   "metadata": {},
   "source": [
    "##### Scale Data"
   ]
  },
  {
   "cell_type": "code",
   "execution_count": 36,
   "id": "9ab90f19-24df-46ce-a4b0-bcfbadb6ad88",
   "metadata": {},
   "outputs": [],
   "source": [
    "# choose features: WILL NEED TO CHANGE TO X_heart???\n",
    "data_for_clustering = heart_df\n",
    "data_for_clustering.fillna(0,inplace=True)\n",
    "\n",
    "# create data matrix\n",
    "data_matrix = np.matrix(data_for_clustering).astype(float)\n",
    "\n",
    "# scale the data\n",
    "from sklearn.preprocessing import MinMaxScaler\n",
    "mms = MinMaxScaler()\n",
    "scaled_data = mms.fit_transform(data_matrix)\n",
    "\n",
    "k_range=range(2,20)"
   ]
  },
  {
   "cell_type": "markdown",
   "id": "23dadbfe-fe8d-474e-ba51-e911e7fe2987",
   "metadata": {},
   "source": [
    "##### K-Means Clustering"
   ]
  },
  {
   "cell_type": "code",
   "execution_count": 37,
   "id": "5b791166-d923-4708-98fa-f7bd819c9686",
   "metadata": {},
   "outputs": [
    {
     "data": {
      "image/png": "[encoded data removed]",
      "text/plain": [
       "<Figure size 504x288 with 1 Axes>"
      ]
     },
     "metadata": {
      "needs_background": "light"
     },
     "output_type": "display_data"
    }
   ],
   "source": [
    "best_k, results, train_times = chooseBestKforKMeans(scaled_data, k_range)\n",
    "adusted_inertia(results)\n",
    "plt.show()\n",
    "\n",
    "# figure out where to include the time for wall-clock HERE:\n",
    "# plt.plot(train_times, '-o')\n",
    "# plt.title('Wall Clock Time')\n",
    "# plt.xlabel('Training Size')\n",
    "# plt.ylabel('Training Time')\n",
    "# plt.xticks(range(2,20,1))\n",
    "# plt.show()"
   ]
  },
  {
   "cell_type": "code",
   "execution_count": 38,
   "id": "13a7de6c-0311-4e90-b452-13581c34a927",
   "metadata": {},
   "outputs": [
    {
     "data": {
      "image/png": "[encoded data removed]",
      "text/plain": [
       "<Figure size 432x288 with 1 Axes>"
      ]
     },
     "metadata": {
      "needs_background": "light"
     },
     "output_type": "display_data"
    }
   ],
   "source": [
    "silhouette_analysis_kmeans(range(2,11), X_heart)\n",
    "plt.show()"
   ]
  },
  {
   "cell_type": "markdown",
   "id": "a2350e6a-ffeb-4375-8996-efa9b5ce4253",
   "metadata": {},
   "source": [
    "##### Expectation Maximization"
   ]
  },
  {
   "cell_type": "code",
   "execution_count": 39,
   "id": "79057fb6-6f23-4f8f-8e9d-8dd3cdbf7556",
   "metadata": {},
   "outputs": [
    {
     "data": {
      "image/png": "[encoded data removed]",
      "text/plain": [
       "<Figure size 432x288 with 1 Axes>"
      ]
     },
     "metadata": {
      "needs_background": "light"
     },
     "output_type": "display_data"
    }
   ],
   "source": [
    "silhouette_analysis_em(range(2,11), X_heart)\n",
    "plt.show()"
   ]
  },
  {
   "cell_type": "markdown",
   "id": "5c85fb2f-9184-495c-a613-6d700261d48e",
   "metadata": {},
   "source": [
    "#### Smoke Detection Portion"
   ]
  },
  {
   "cell_type": "markdown",
   "id": "7ee66564-ba96-4aef-9ce2-783676214be0",
   "metadata": {},
   "source": [
    "##### Scale Data"
   ]
  },
  {
   "cell_type": "code",
   "execution_count": 40,
   "id": "cfa0b9b0-f340-4549-9d57-2bd4e5eacbd3",
   "metadata": {},
   "outputs": [],
   "source": [
    "# choose features\n",
    "data_for_clustering = smoke_df\n",
    "data_for_clustering.fillna(0,inplace=True)\n",
    "\n",
    "# create data matrix\n",
    "data_matrix = np.matrix(data_for_clustering).astype(float)\n",
    "\n",
    "# scale the data\n",
    "from sklearn.preprocessing import MinMaxScaler\n",
    "mms = MinMaxScaler()\n",
    "scaled_data = mms.fit_transform(data_matrix)\n",
    "\n",
    "k_range=range(2,20)"
   ]
  },
  {
   "cell_type": "code",
   "execution_count": 41,
   "id": "347812ac-406d-4a34-88e3-081cf6fc4eab",
   "metadata": {},
   "outputs": [
    {
     "data": {
      "image/png": "[encoded data removed]",
      "text/plain": [
       "<Figure size 504x288 with 1 Axes>"
      ]
     },
     "metadata": {
      "needs_background": "light"
     },
     "output_type": "display_data"
    }
   ],
   "source": [
    "best_k, results, train_times = chooseBestKforKMeans(scaled_data, k_range)\n",
    "adusted_inertia(results)\n",
    "plt.show()\n",
    "\n",
    "# figure out where to include the time for wall-clock HERE:\n",
    "# train_times = []\n",
    "# start_time = time.time()\n",
    "# end_time = time.time()\n",
    "# total_time = end_time-start_time\n",
    "# train_times.append(end_time - start_time)"
   ]
  },
  {
   "cell_type": "code",
   "execution_count": 42,
   "id": "ac55f0e3-fd98-42b5-9cfe-c4201e6cb158",
   "metadata": {},
   "outputs": [
    {
     "data": {
      "text/html": [
       "<div>\n",
       "<style scoped>\n",
       "    .dataframe tbody tr th:only-of-type {\n",
       "        vertical-align: middle;\n",
       "    }\n",
       "\n",
       "    .dataframe tbody tr th {\n",
       "        vertical-align: top;\n",
       "    }\n",
       "\n",
       "    .dataframe thead th {\n",
       "        text-align: right;\n",
       "    }\n",
       "</style>\n",
       "<table border=\"1\" class=\"dataframe\">\n",
       "  <thead>\n",
       "    <tr style=\"text-align: right;\">\n",
       "      <th></th>\n",
       "      <th>Scaled Inertia</th>\n",
       "    </tr>\n",
       "    <tr>\n",
       "      <th>k</th>\n",
       "      <th></th>\n",
       "    </tr>\n",
       "  </thead>\n",
       "  <tbody>\n",
       "    <tr>\n",
       "      <th>9</th>\n",
       "      <td>0.2888</td>\n",
       "    </tr>\n",
       "  </tbody>\n",
       "</table>\n",
       "</div>"
      ],
      "text/plain": [
       "   Scaled Inertia\n",
       "k                \n",
       "9          0.2888"
      ]
     },
     "execution_count": 42,
     "metadata": {},
     "output_type": "execute_result"
    }
   ],
   "source": [
    "get_best_k(results)"
   ]
  },
  {
   "cell_type": "code",
   "execution_count": 45,
   "id": "548e0fb2-235d-4610-aa4a-7e9ceecf7a9b",
   "metadata": {},
   "outputs": [
    {
     "data": {
      "image/png": "[encoded data removed]",
      "text/plain": [
       "<Figure size 432x288 with 1 Axes>"
      ]
     },
     "metadata": {
      "needs_background": "light"
     },
     "output_type": "display_data"
    }
   ],
   "source": [
    "silhouette_analysis_kmeans(range(2, 11), X_smoke)\n",
    "plt.show()"
   ]
  },
  {
   "cell_type": "markdown",
   "id": "b0d8df4a-4bbf-40b7-abc9-2cf7e57cccf7",
   "metadata": {},
   "source": [
    "##### Expectation Maximization"
   ]
  },
  {
   "cell_type": "code",
   "execution_count": 46,
   "id": "58ab9149-49e8-4a3b-a370-34a769f96e63",
   "metadata": {},
   "outputs": [
    {
     "data": {
      "image/png": "[encoded data removed]",
      "text/plain": [
       "<Figure size 432x288 with 1 Axes>"
      ]
     },
     "metadata": {
      "needs_background": "light"
     },
     "output_type": "display_data"
    }
   ],
   "source": [
    "silhouette_analysis_em(range(2, 11), X_smoke)\n",
    "plt.show()"
   ]
  },
  {
   "cell_type": "markdown",
   "id": "d0130e54-a7db-4098-92b2-57d26ee28069",
   "metadata": {},
   "source": [
    "### Step 2: Dimensionality Reduction"
   ]
  },
  {
   "cell_type": "markdown",
   "id": "3fde3c20-3e1b-4a6b-9b7e-115365802b48",
   "metadata": {},
   "source": [
    "##### Heart"
   ]
  },
  {
   "cell_type": "markdown",
   "id": "c1d54e6a-e766-41b5-bee6-ca743211335e",
   "metadata": {},
   "source": [
    "##### PCA\n",
    "- [What is PCA?](https://builtin.com/data-science/step-step-explanation-principal-component-analysis)<br>\n",
    "- [PCA in python](https://www.mikulskibartosz.name/pca-how-to-choose-the-number-of-components/#:~:text=Short%20answer,-Don't%20do&text=Don't%20choose%20the%20number,and%201%20before%20using%20PCA!) <br>\n",
    "- [Covariance vs Correlation](https://www.wallstreetmojo.com/correlation-vs-covariance/)\n",
    "- Eigenvectors of the covariance matrix make up the components that are picked"
   ]
  },
  {
   "cell_type": "code",
   "execution_count": 47,
   "id": "c9f3e9f4-b168-4969-b459-b3d9a515858f",
   "metadata": {},
   "outputs": [],
   "source": [
    "from sklearn.decomposition import PCA, FastICA as ICA\n",
    "from sklearn.random_projection import GaussianRandomProjection as GRP, SparseRandomProjection as RCA\n",
    "from sklearn.ensemble import RandomForestClassifier as RFC\n",
    "from itertools import product\n",
    "from collections import defaultdict\n",
    "\n",
    "def run_PCA(X, title):\n",
    "    \"\"\"\n",
    "    :param X: is the scaled data after using MinMaxScaler\n",
    "    :param y: is the test data for given dataset\n",
    "    :param title: sets the title of the PCA graph\n",
    "    \"\"\"\n",
    "    \n",
    "    plt.rcParams[\"figure.figsize\"] = (12,6)\n",
    "    pca = PCA(n_components=14, random_state=10).fit(X)\n",
    "    cum_var = np.cumsum(pca.explained_variance_ratio_)\n",
    "\n",
    "    fig, ax1 = plt.subplots()\n",
    "    plt.ylim(0, 1.1)\n",
    "    plt.axhline(y=0.95, color='r', linestyle='-')\n",
    "    plt.text(10, 0.90, '95% cut-off threshold', color = 'red', fontsize=11)\n",
    "\n",
    "    ax1.plot(list(range(len(pca.explained_variance_ratio_))), cum_var, 'b-', marker='o', linestyle='--')\n",
    "    ax1.set_xlabel('Number of Principal Components')\n",
    "    \n",
    "    # Make the y-axis label, ticks and tick labels match the line color.\n",
    "    ax1.set_ylabel('Cumulative Explained Variance Ratio (%)', color='b')\n",
    "    ax1.tick_params('y', colors='b')\n",
    "    plt.grid(False)\n",
    "\n",
    "    ax2 = ax1.twinx()\n",
    "    ax2.plot(list(range(len(pca.singular_values_))), pca.singular_values_, 'g-', marker='o', linestyle='--')\n",
    "    ax2.set_ylabel('Eigenvalues', color='g')\n",
    "    ax2.tick_params('y', colors='g')\n",
    "    plt.grid(False)\n",
    "    ax1.grid(axis='x')\n",
    "    plt.title(\"PCA Number of Components: Explained Variance and Eigenvalues for \"+ title)\n",
    "    fig.tight_layout()\n",
    "    plt.show()"
   ]
  },
  {
   "cell_type": "code",
   "execution_count": 48,
   "id": "789a5875-b545-46ba-acf2-57ed6f412fd0",
   "metadata": {},
   "outputs": [
    {
     "name": "stderr",
     "output_type": "stream",
     "text": [
      "/var/folders/0z/b69fyzzx0s57g_69wvxdmk1m0000gn/T/ipykernel_29817/926515692.py:23: UserWarning: linestyle is redundantly defined by the 'linestyle' keyword argument and the fmt string \"b-\" (-> linestyle='-'). The keyword argument will take precedence.\n",
      "  ax1.plot(list(range(len(pca.explained_variance_ratio_))), cum_var, 'b-', marker='o', linestyle='--')\n",
      "/var/folders/0z/b69fyzzx0s57g_69wvxdmk1m0000gn/T/ipykernel_29817/926515692.py:32: UserWarning: linestyle is redundantly defined by the 'linestyle' keyword argument and the fmt string \"g-\" (-> linestyle='-'). The keyword argument will take precedence.\n",
      "  ax2.plot(list(range(len(pca.singular_values_))), pca.singular_values_, 'g-', marker='o', linestyle='--')\n"
     ]
    },
    {
     "data": {
      "image/png": "[encoded data removed]",
      "text/plain": [
       "<Figure size 864x432 with 2 Axes>"
      ]
     },
     "metadata": {
      "needs_background": "light"
     },
     "output_type": "display_data"
    }
   ],
   "source": [
    "run_PCA(scaled_data, \"Heart Disease Data\")"
   ]
  },
  {
   "cell_type": "markdown",
   "id": "74d881d5-3672-44b6-895d-37f104a56ba7",
   "metadata": {},
   "source": [
    "##### ICA"
   ]
  },
  {
   "cell_type": "code",
   "execution_count": 49,
   "id": "a3938b77-9657-4803-87d1-549e14178599",
   "metadata": {},
   "outputs": [],
   "source": [
    "def run_ICA(X, title):\n",
    "    dims = list(np.arange(2,(X.shape[1]-1),3))\n",
    "    dims.append(X.shape[1])\n",
    "    ica = ICA(random_state=10)\n",
    "    kurt = []\n",
    "\n",
    "    for dim in dims:\n",
    "        ica.set_params(n_components=dim)\n",
    "        tmp = ica.fit_transform(X)\n",
    "        tmp = pd.DataFrame(tmp)\n",
    "        tmp = tmp.kurt(axis=0)\n",
    "        kurt.append(tmp.abs().mean())\n",
    "\n",
    "    plt.figure()\n",
    "    plt.title(\"ICA Kurtosis: \"+ title)\n",
    "    plt.xlabel(\"Independent Components\")\n",
    "    plt.ylabel(\"Avg Kurtosis Across IC\")\n",
    "    plt.plot(dims, kurt, 'b-')\n",
    "    plt.grid(False)\n",
    "    plt.show()"
   ]
  },
  {
   "cell_type": "code",
   "execution_count": 50,
   "id": "ebd7bdb2-9dce-4507-983e-d7a504c981d3",
   "metadata": {},
   "outputs": [
    {
     "name": "stderr",
     "output_type": "stream",
     "text": [
      "/Users/adithyavenkatesh/opt/anaconda3/lib/python3.9/site-packages/sklearn/decomposition/_fastica.py:118: ConvergenceWarning: FastICA did not converge. Consider increasing tolerance or the maximum number of iterations.\n",
      "  warnings.warn('FastICA did not converge. Consider increasing '\n"
     ]
    },
    {
     "data": {
      "image/png": "[encoded data removed]",
      "text/plain": [
       "<Figure size 864x432 with 1 Axes>"
      ]
     },
     "metadata": {
      "needs_background": "light"
     },
     "output_type": "display_data"
    }
   ],
   "source": [
    "run_ICA(X_heart, \"Heart\")"
   ]
  },
  {
   "cell_type": "markdown",
   "id": "5fdaf646-6e3c-4fff-8234-d3df998bb07b",
   "metadata": {},
   "source": [
    "##### Randomized Projections\n",
    "Sparse Random Projection method <br>\n",
    "[Choosing an RP algorithm](https://medium.com/data-science-in-your-pocket/random-projection-for-dimension-reduction-27d2ec7d40cd)"
   ]
  },
  {
   "cell_type": "code",
   "execution_count": 51,
   "id": "5103bc34-fd43-433f-bc22-80c3c65dff60",
   "metadata": {},
   "outputs": [
    {
     "name": "stdout",
     "output_type": "stream",
     "text": [
      "Shape of transformed data: (100, 13)\n"
     ]
    },
    {
     "data": {
      "image/png": "[encoded data removed]",
      "text/plain": [
       "<Figure size 864x432 with 1 Axes>"
      ]
     },
     "metadata": {
      "needs_background": "light"
     },
     "output_type": "display_data"
    },
    {
     "data": {
      "text/html": [
       "<div>\n",
       "<style scoped>\n",
       "    .dataframe tbody tr th:only-of-type {\n",
       "        vertical-align: middle;\n",
       "    }\n",
       "\n",
       "    .dataframe tbody tr th {\n",
       "        vertical-align: top;\n",
       "    }\n",
       "\n",
       "    .dataframe thead th {\n",
       "        text-align: right;\n",
       "    }\n",
       "</style>\n",
       "<table border=\"1\" class=\"dataframe\">\n",
       "  <thead>\n",
       "    <tr style=\"text-align: right;\">\n",
       "      <th></th>\n",
       "      <th>0</th>\n",
       "      <th>1</th>\n",
       "      <th>2</th>\n",
       "      <th>3</th>\n",
       "      <th>4</th>\n",
       "      <th>5</th>\n",
       "      <th>6</th>\n",
       "      <th>7</th>\n",
       "      <th>8</th>\n",
       "      <th>9</th>\n",
       "      <th>10</th>\n",
       "      <th>11</th>\n",
       "      <th>12</th>\n",
       "    </tr>\n",
       "  </thead>\n",
       "  <tbody>\n",
       "    <tr>\n",
       "      <th>0</th>\n",
       "      <td>-17.332043</td>\n",
       "      <td>-10.018864</td>\n",
       "      <td>10.095356</td>\n",
       "      <td>12.740871</td>\n",
       "      <td>-3.621858</td>\n",
       "      <td>1.435229</td>\n",
       "      <td>8.677459</td>\n",
       "      <td>2.229198</td>\n",
       "      <td>5.150060</td>\n",
       "      <td>-14.778093</td>\n",
       "      <td>8.108695</td>\n",
       "      <td>-0.572835</td>\n",
       "      <td>-14.696477</td>\n",
       "    </tr>\n",
       "    <tr>\n",
       "      <th>1</th>\n",
       "      <td>-1.214274</td>\n",
       "      <td>-6.713947</td>\n",
       "      <td>-10.026963</td>\n",
       "      <td>15.143148</td>\n",
       "      <td>1.385443</td>\n",
       "      <td>-12.023904</td>\n",
       "      <td>6.037941</td>\n",
       "      <td>-8.967004</td>\n",
       "      <td>3.647978</td>\n",
       "      <td>-21.335723</td>\n",
       "      <td>9.732862</td>\n",
       "      <td>0.299266</td>\n",
       "      <td>-15.196394</td>\n",
       "    </tr>\n",
       "    <tr>\n",
       "      <th>2</th>\n",
       "      <td>-5.300827</td>\n",
       "      <td>-10.199131</td>\n",
       "      <td>-4.786038</td>\n",
       "      <td>14.169263</td>\n",
       "      <td>3.078262</td>\n",
       "      <td>-12.826562</td>\n",
       "      <td>6.066373</td>\n",
       "      <td>-8.887626</td>\n",
       "      <td>5.957349</td>\n",
       "      <td>-13.883918</td>\n",
       "      <td>-1.038342</td>\n",
       "      <td>4.839731</td>\n",
       "      <td>-7.851581</td>\n",
       "    </tr>\n",
       "    <tr>\n",
       "      <th>3</th>\n",
       "      <td>-12.579714</td>\n",
       "      <td>-8.770980</td>\n",
       "      <td>-1.050312</td>\n",
       "      <td>17.962352</td>\n",
       "      <td>7.322978</td>\n",
       "      <td>-22.386658</td>\n",
       "      <td>-11.665662</td>\n",
       "      <td>4.438202</td>\n",
       "      <td>9.578866</td>\n",
       "      <td>-19.367364</td>\n",
       "      <td>10.445118</td>\n",
       "      <td>13.798773</td>\n",
       "      <td>-21.389786</td>\n",
       "    </tr>\n",
       "    <tr>\n",
       "      <th>4</th>\n",
       "      <td>-0.013586</td>\n",
       "      <td>-16.943772</td>\n",
       "      <td>7.235381</td>\n",
       "      <td>11.738645</td>\n",
       "      <td>-6.254382</td>\n",
       "      <td>-15.745371</td>\n",
       "      <td>-10.619764</td>\n",
       "      <td>-4.865944</td>\n",
       "      <td>11.419542</td>\n",
       "      <td>-20.124100</td>\n",
       "      <td>2.828259</td>\n",
       "      <td>10.243093</td>\n",
       "      <td>-4.535998</td>\n",
       "    </tr>\n",
       "    <tr>\n",
       "      <th>...</th>\n",
       "      <td>...</td>\n",
       "      <td>...</td>\n",
       "      <td>...</td>\n",
       "      <td>...</td>\n",
       "      <td>...</td>\n",
       "      <td>...</td>\n",
       "      <td>...</td>\n",
       "      <td>...</td>\n",
       "      <td>...</td>\n",
       "      <td>...</td>\n",
       "      <td>...</td>\n",
       "      <td>...</td>\n",
       "      <td>...</td>\n",
       "    </tr>\n",
       "    <tr>\n",
       "      <th>95</th>\n",
       "      <td>-5.607331</td>\n",
       "      <td>-21.948814</td>\n",
       "      <td>6.461882</td>\n",
       "      <td>7.444693</td>\n",
       "      <td>0.013130</td>\n",
       "      <td>-5.198897</td>\n",
       "      <td>-8.461769</td>\n",
       "      <td>1.001681</td>\n",
       "      <td>7.118340</td>\n",
       "      <td>-13.157957</td>\n",
       "      <td>-1.406071</td>\n",
       "      <td>6.609123</td>\n",
       "      <td>-17.820003</td>\n",
       "    </tr>\n",
       "    <tr>\n",
       "      <th>96</th>\n",
       "      <td>4.618977</td>\n",
       "      <td>-6.312395</td>\n",
       "      <td>6.222677</td>\n",
       "      <td>12.000344</td>\n",
       "      <td>0.206963</td>\n",
       "      <td>-6.278012</td>\n",
       "      <td>-14.088454</td>\n",
       "      <td>16.645968</td>\n",
       "      <td>12.995167</td>\n",
       "      <td>-18.682927</td>\n",
       "      <td>1.929929</td>\n",
       "      <td>12.025557</td>\n",
       "      <td>-21.051350</td>\n",
       "    </tr>\n",
       "    <tr>\n",
       "      <th>97</th>\n",
       "      <td>-1.711549</td>\n",
       "      <td>-8.374015</td>\n",
       "      <td>3.653722</td>\n",
       "      <td>7.421742</td>\n",
       "      <td>1.608350</td>\n",
       "      <td>-7.191410</td>\n",
       "      <td>-1.725227</td>\n",
       "      <td>0.757061</td>\n",
       "      <td>10.290587</td>\n",
       "      <td>-9.217666</td>\n",
       "      <td>5.589429</td>\n",
       "      <td>5.530239</td>\n",
       "      <td>-19.298725</td>\n",
       "    </tr>\n",
       "    <tr>\n",
       "      <th>98</th>\n",
       "      <td>-16.383942</td>\n",
       "      <td>-23.988256</td>\n",
       "      <td>0.294151</td>\n",
       "      <td>9.359212</td>\n",
       "      <td>-0.402552</td>\n",
       "      <td>-19.896653</td>\n",
       "      <td>-11.405773</td>\n",
       "      <td>10.207069</td>\n",
       "      <td>9.254246</td>\n",
       "      <td>-10.851344</td>\n",
       "      <td>3.890163</td>\n",
       "      <td>-1.495865</td>\n",
       "      <td>-18.911673</td>\n",
       "    </tr>\n",
       "    <tr>\n",
       "      <th>99</th>\n",
       "      <td>-14.465910</td>\n",
       "      <td>-12.202584</td>\n",
       "      <td>4.083367</td>\n",
       "      <td>11.266225</td>\n",
       "      <td>8.450840</td>\n",
       "      <td>-14.296756</td>\n",
       "      <td>7.209999</td>\n",
       "      <td>16.822160</td>\n",
       "      <td>12.489645</td>\n",
       "      <td>-15.954894</td>\n",
       "      <td>-1.577871</td>\n",
       "      <td>7.405212</td>\n",
       "      <td>-16.707752</td>\n",
       "    </tr>\n",
       "  </tbody>\n",
       "</table>\n",
       "<p>100 rows × 13 columns</p>\n",
       "</div>"
      ],
      "text/plain": [
       "           0          1          2          3         4          5   \\\n",
       "0  -17.332043 -10.018864  10.095356  12.740871 -3.621858   1.435229   \n",
       "1   -1.214274  -6.713947 -10.026963  15.143148  1.385443 -12.023904   \n",
       "2   -5.300827 -10.199131  -4.786038  14.169263  3.078262 -12.826562   \n",
       "3  -12.579714  -8.770980  -1.050312  17.962352  7.322978 -22.386658   \n",
       "4   -0.013586 -16.943772   7.235381  11.738645 -6.254382 -15.745371   \n",
       "..        ...        ...        ...        ...       ...        ...   \n",
       "95  -5.607331 -21.948814   6.461882   7.444693  0.013130  -5.198897   \n",
       "96   4.618977  -6.312395   6.222677  12.000344  0.206963  -6.278012   \n",
       "97  -1.711549  -8.374015   3.653722   7.421742  1.608350  -7.191410   \n",
       "98 -16.383942 -23.988256   0.294151   9.359212 -0.402552 -19.896653   \n",
       "99 -14.465910 -12.202584   4.083367  11.266225  8.450840 -14.296756   \n",
       "\n",
       "           6          7          8          9          10         11  \\\n",
       "0    8.677459   2.229198   5.150060 -14.778093   8.108695  -0.572835   \n",
       "1    6.037941  -8.967004   3.647978 -21.335723   9.732862   0.299266   \n",
       "2    6.066373  -8.887626   5.957349 -13.883918  -1.038342   4.839731   \n",
       "3  -11.665662   4.438202   9.578866 -19.367364  10.445118  13.798773   \n",
       "4  -10.619764  -4.865944  11.419542 -20.124100   2.828259  10.243093   \n",
       "..        ...        ...        ...        ...        ...        ...   \n",
       "95  -8.461769   1.001681   7.118340 -13.157957  -1.406071   6.609123   \n",
       "96 -14.088454  16.645968  12.995167 -18.682927   1.929929  12.025557   \n",
       "97  -1.725227   0.757061  10.290587  -9.217666   5.589429   5.530239   \n",
       "98 -11.405773  10.207069   9.254246 -10.851344   3.890163  -1.495865   \n",
       "99   7.209999  16.822160  12.489645 -15.954894  -1.577871   7.405212   \n",
       "\n",
       "           12  \n",
       "0  -14.696477  \n",
       "1  -15.196394  \n",
       "2   -7.851581  \n",
       "3  -21.389786  \n",
       "4   -4.535998  \n",
       "..        ...  \n",
       "95 -17.820003  \n",
       "96 -21.051350  \n",
       "97 -19.298725  \n",
       "98 -18.911673  \n",
       "99 -16.707752  \n",
       "\n",
       "[100 rows x 13 columns]"
      ]
     },
     "execution_count": 51,
     "metadata": {},
     "output_type": "execute_result"
    }
   ],
   "source": [
    "from sklearn.random_projection import SparseRandomProjection\n",
    "from sklearn.random_projection import GaussianRandomProjection\n",
    "# import numpy as np\n",
    "# from matplotlib import pyplot as plt\n",
    "# import sklearn.datasets as dt\n",
    "# from sklearn.metrics.pairwise import euclidean_distances\n",
    "from sklearn import random_projection\n",
    "\n",
    "def run_RP(X, comp, hist=True):\n",
    "    X_rand = np.random.RandomState(0).rand(100, 5000)\n",
    "    proj_gauss = GaussianRandomProjection(random_state=0, n_components=comp)\n",
    "    X_transformed = proj_gauss.fit_transform(X_rand)\n",
    "    df = pd.DataFrame(data = X_transformed)\n",
    "\n",
    "    # Print the size of the transformed data\n",
    "    print('Shape of transformed data: ' + str(X_transformed.shape))\n",
    "    \n",
    "    \n",
    "    if hist:\n",
    "        plt.hist(proj_gauss.components_.flatten())\n",
    "        plt.title('Histogram of the flattened transformation matrix')\n",
    "        plt.show()\n",
    "    \n",
    "    return df\n",
    "    \n",
    "run_RP(X_heart, 13)"
   ]
  },
  {
   "cell_type": "markdown",
   "id": "d0cb636c-512d-4974-ae80-fd1577c2f6c8",
   "metadata": {},
   "source": [
    "##### Truncated Singular Value Decomposition (SVD)"
   ]
  },
  {
   "cell_type": "code",
   "execution_count": 52,
   "id": "a31a13da-04d9-46bd-912c-0b42678b7066",
   "metadata": {},
   "outputs": [
    {
     "name": "stdout",
     "output_type": "stream",
     "text": [
      ">1 0.591 (0.038)\n",
      ">2 0.621 (0.032)\n",
      ">3 0.675 (0.031)\n",
      ">4 0.680 (0.029)\n",
      ">5 0.705 (0.029)\n",
      ">6 0.709 (0.029)\n",
      ">7 0.718 (0.032)\n",
      ">8 0.720 (0.034)\n",
      ">9 0.724 (0.033)\n",
      ">10 0.723 (0.031)\n",
      ">11 0.727 (0.033)\n",
      ">12 0.772 (0.032)\n",
      ">13 0.773 (0.031)\n",
      ">14 0.773 (0.029)\n",
      ">15 0.778 (0.029)\n",
      ">16 0.780 (0.027)\n",
      ">17 0.801 (0.028)\n",
      ">18 0.845 (0.026)\n",
      ">19 0.864 (0.026)\n",
      ">20 0.866 (0.024)\n",
      ">21 0.866 (0.024)\n",
      ">22 0.866 (0.024)\n",
      ">23 0.866 (0.024)\n",
      ">24 0.866 (0.024)\n",
      ">25 0.866 (0.024)\n",
      ">26 0.866 (0.024)\n",
      ">27 0.866 (0.024)\n",
      ">28 0.866 (0.024)\n",
      ">29 0.866 (0.024)\n"
     ]
    },
    {
     "data": {
      "image/png": "[encoded data removed]",
      "text/plain": [
       "<Figure size 864x432 with 1 Axes>"
      ]
     },
     "metadata": {
      "needs_background": "light"
     },
     "output_type": "display_data"
    }
   ],
   "source": [
    "from sklearn.datasets import load_iris\n",
    "from sklearn.decomposition import TruncatedSVD\n",
    "from sklearn.datasets import make_classification\n",
    "from sklearn.linear_model import LogisticRegression\n",
    "from sklearn.pipeline import Pipeline\n",
    "from sklearn.decomposition import TruncatedSVD\n",
    "from sklearn.ensemble import RandomForestClassifier\n",
    "from sklearn.model_selection import RepeatedStratifiedKFold\n",
    "from sklearn.model_selection import cross_val_score\n",
    "import statistics\n",
    "\n",
    "# defining dataset\n",
    "X, y = make_classification(n_samples=2000, n_features=30, n_informative=20, n_redundant=10, random_state=7)\n",
    " # get a list of models\n",
    "def get_models():\n",
    "    models = dict()\n",
    "    for i in range(1,30):\n",
    "        steps = [('svd', TruncatedSVD(n_components=i)), ('m', LogisticRegression())]\n",
    "        models[str(i)] = Pipeline(steps=steps)\n",
    "    return models\n",
    "# evaluate a give model using cross-validation\n",
    "def evaluate_model(model, X, y):\n",
    "    cv = RepeatedStratifiedKFold(n_splits=10, n_repeats=3, random_state=1)\n",
    "    scores = cross_val_score(model, X, y, scoring='accuracy', cv=cv, n_jobs=-1, error_score='raise')\n",
    "    return scores\n",
    "# get the models to evaluate\n",
    "models = get_models()\n",
    " # evaluate the models and store results\n",
    "results, names = list(), list()\n",
    "for name, model in models.items():\n",
    "    scores = evaluate_model(model, X, y)\n",
    "    results.append(scores)\n",
    "    names.append(name)\n",
    "    print('>%s %.3f (%.3f)' % (name, statistics.mean(scores), statistics.stdev(scores)))\n",
    "# plot model performance for comparison\n",
    "plt.boxplot(results, labels=names, showmeans=True)\n",
    "plt.xticks(rotation=45)\n",
    "plt.show()"
   ]
  },
  {
   "cell_type": "code",
   "execution_count": null,
   "id": "f6cff129-ab17-4bf2-9983-bb310309dcd2",
   "metadata": {},
   "outputs": [],
   "source": []
  },
  {
   "cell_type": "code",
   "execution_count": null,
   "id": "70c54962-c317-45cf-891f-9205411740ca",
   "metadata": {},
   "outputs": [],
   "source": []
  },
  {
   "cell_type": "code",
   "execution_count": null,
   "id": "7aa0bd35-654b-448f-be2a-e9fe3bd9dc14",
   "metadata": {},
   "outputs": [],
   "source": []
  },
  {
   "cell_type": "markdown",
   "id": "b37a0d44-17fb-4ea2-a364-4e4fed01b273",
   "metadata": {},
   "source": [
    "##### Smoke"
   ]
  },
  {
   "cell_type": "markdown",
   "id": "74805e5d-620a-419d-a121-0b073447e089",
   "metadata": {},
   "source": [
    "##### PCA"
   ]
  },
  {
   "cell_type": "code",
   "execution_count": 53,
   "id": "20857e95-f4f2-41d8-b73f-871b8b2e984a",
   "metadata": {},
   "outputs": [
    {
     "name": "stderr",
     "output_type": "stream",
     "text": [
      "/var/folders/0z/b69fyzzx0s57g_69wvxdmk1m0000gn/T/ipykernel_29817/926515692.py:23: UserWarning: linestyle is redundantly defined by the 'linestyle' keyword argument and the fmt string \"b-\" (-> linestyle='-'). The keyword argument will take precedence.\n",
      "  ax1.plot(list(range(len(pca.explained_variance_ratio_))), cum_var, 'b-', marker='o', linestyle='--')\n",
      "/var/folders/0z/b69fyzzx0s57g_69wvxdmk1m0000gn/T/ipykernel_29817/926515692.py:32: UserWarning: linestyle is redundantly defined by the 'linestyle' keyword argument and the fmt string \"g-\" (-> linestyle='-'). The keyword argument will take precedence.\n",
      "  ax2.plot(list(range(len(pca.singular_values_))), pca.singular_values_, 'g-', marker='o', linestyle='--')\n"
     ]
    },
    {
     "data": {
      "image/png": "[encoded data removed]",
      "text/plain": [
       "<Figure size 864x432 with 2 Axes>"
      ]
     },
     "metadata": {
      "needs_background": "light"
     },
     "output_type": "display_data"
    }
   ],
   "source": [
    "run_PCA(X_smoke, \"Smoke\")"
   ]
  },
  {
   "cell_type": "markdown",
   "id": "d9c01f89-f172-4f93-9b73-1763393f31c2",
   "metadata": {},
   "source": [
    "##### ICA"
   ]
  },
  {
   "cell_type": "code",
   "execution_count": 54,
   "id": "2d2b212c-e651-433f-8e4f-4603352c586b",
   "metadata": {},
   "outputs": [
    {
     "data": {
      "image/png": "[encoded data removed]",
      "text/plain": [
       "<Figure size 864x432 with 1 Axes>"
      ]
     },
     "metadata": {
      "needs_background": "light"
     },
     "output_type": "display_data"
    }
   ],
   "source": [
    "run_ICA(X_smoke,\"Smoke\")"
   ]
  },
  {
   "cell_type": "markdown",
   "id": "d6ab059e-f08b-4d4b-b881-a6b2dd4a35a6",
   "metadata": {},
   "source": [
    "##### RP"
   ]
  },
  {
   "cell_type": "code",
   "execution_count": 55,
   "id": "ace38b30-311e-4aac-abec-bfe79957e3bf",
   "metadata": {},
   "outputs": [
    {
     "name": "stdout",
     "output_type": "stream",
     "text": [
      "Shape of transformed data: (100, 13)\n"
     ]
    },
    {
     "data": {
      "image/png": "[encoded data removed]",
      "text/plain": [
       "<Figure size 864x432 with 1 Axes>"
      ]
     },
     "metadata": {
      "needs_background": "light"
     },
     "output_type": "display_data"
    },
    {
     "data": {
      "text/html": [
       "<div>\n",
       "<style scoped>\n",
       "    .dataframe tbody tr th:only-of-type {\n",
       "        vertical-align: middle;\n",
       "    }\n",
       "\n",
       "    .dataframe tbody tr th {\n",
       "        vertical-align: top;\n",
       "    }\n",
       "\n",
       "    .dataframe thead th {\n",
       "        text-align: right;\n",
       "    }\n",
       "</style>\n",
       "<table border=\"1\" class=\"dataframe\">\n",
       "  <thead>\n",
       "    <tr style=\"text-align: right;\">\n",
       "      <th></th>\n",
       "      <th>0</th>\n",
       "      <th>1</th>\n",
       "      <th>2</th>\n",
       "      <th>3</th>\n",
       "      <th>4</th>\n",
       "      <th>5</th>\n",
       "      <th>6</th>\n",
       "      <th>7</th>\n",
       "      <th>8</th>\n",
       "      <th>9</th>\n",
       "      <th>10</th>\n",
       "      <th>11</th>\n",
       "      <th>12</th>\n",
       "    </tr>\n",
       "  </thead>\n",
       "  <tbody>\n",
       "    <tr>\n",
       "      <th>0</th>\n",
       "      <td>-17.332043</td>\n",
       "      <td>-10.018864</td>\n",
       "      <td>10.095356</td>\n",
       "      <td>12.740871</td>\n",
       "      <td>-3.621858</td>\n",
       "      <td>1.435229</td>\n",
       "      <td>8.677459</td>\n",
       "      <td>2.229198</td>\n",
       "      <td>5.150060</td>\n",
       "      <td>-14.778093</td>\n",
       "      <td>8.108695</td>\n",
       "      <td>-0.572835</td>\n",
       "      <td>-14.696477</td>\n",
       "    </tr>\n",
       "    <tr>\n",
       "      <th>1</th>\n",
       "      <td>-1.214274</td>\n",
       "      <td>-6.713947</td>\n",
       "      <td>-10.026963</td>\n",
       "      <td>15.143148</td>\n",
       "      <td>1.385443</td>\n",
       "      <td>-12.023904</td>\n",
       "      <td>6.037941</td>\n",
       "      <td>-8.967004</td>\n",
       "      <td>3.647978</td>\n",
       "      <td>-21.335723</td>\n",
       "      <td>9.732862</td>\n",
       "      <td>0.299266</td>\n",
       "      <td>-15.196394</td>\n",
       "    </tr>\n",
       "    <tr>\n",
       "      <th>2</th>\n",
       "      <td>-5.300827</td>\n",
       "      <td>-10.199131</td>\n",
       "      <td>-4.786038</td>\n",
       "      <td>14.169263</td>\n",
       "      <td>3.078262</td>\n",
       "      <td>-12.826562</td>\n",
       "      <td>6.066373</td>\n",
       "      <td>-8.887626</td>\n",
       "      <td>5.957349</td>\n",
       "      <td>-13.883918</td>\n",
       "      <td>-1.038342</td>\n",
       "      <td>4.839731</td>\n",
       "      <td>-7.851581</td>\n",
       "    </tr>\n",
       "    <tr>\n",
       "      <th>3</th>\n",
       "      <td>-12.579714</td>\n",
       "      <td>-8.770980</td>\n",
       "      <td>-1.050312</td>\n",
       "      <td>17.962352</td>\n",
       "      <td>7.322978</td>\n",
       "      <td>-22.386658</td>\n",
       "      <td>-11.665662</td>\n",
       "      <td>4.438202</td>\n",
       "      <td>9.578866</td>\n",
       "      <td>-19.367364</td>\n",
       "      <td>10.445118</td>\n",
       "      <td>13.798773</td>\n",
       "      <td>-21.389786</td>\n",
       "    </tr>\n",
       "    <tr>\n",
       "      <th>4</th>\n",
       "      <td>-0.013586</td>\n",
       "      <td>-16.943772</td>\n",
       "      <td>7.235381</td>\n",
       "      <td>11.738645</td>\n",
       "      <td>-6.254382</td>\n",
       "      <td>-15.745371</td>\n",
       "      <td>-10.619764</td>\n",
       "      <td>-4.865944</td>\n",
       "      <td>11.419542</td>\n",
       "      <td>-20.124100</td>\n",
       "      <td>2.828259</td>\n",
       "      <td>10.243093</td>\n",
       "      <td>-4.535998</td>\n",
       "    </tr>\n",
       "    <tr>\n",
       "      <th>...</th>\n",
       "      <td>...</td>\n",
       "      <td>...</td>\n",
       "      <td>...</td>\n",
       "      <td>...</td>\n",
       "      <td>...</td>\n",
       "      <td>...</td>\n",
       "      <td>...</td>\n",
       "      <td>...</td>\n",
       "      <td>...</td>\n",
       "      <td>...</td>\n",
       "      <td>...</td>\n",
       "      <td>...</td>\n",
       "      <td>...</td>\n",
       "    </tr>\n",
       "    <tr>\n",
       "      <th>95</th>\n",
       "      <td>-5.607331</td>\n",
       "      <td>-21.948814</td>\n",
       "      <td>6.461882</td>\n",
       "      <td>7.444693</td>\n",
       "      <td>0.013130</td>\n",
       "      <td>-5.198897</td>\n",
       "      <td>-8.461769</td>\n",
       "      <td>1.001681</td>\n",
       "      <td>7.118340</td>\n",
       "      <td>-13.157957</td>\n",
       "      <td>-1.406071</td>\n",
       "      <td>6.609123</td>\n",
       "      <td>-17.820003</td>\n",
       "    </tr>\n",
       "    <tr>\n",
       "      <th>96</th>\n",
       "      <td>4.618977</td>\n",
       "      <td>-6.312395</td>\n",
       "      <td>6.222677</td>\n",
       "      <td>12.000344</td>\n",
       "      <td>0.206963</td>\n",
       "      <td>-6.278012</td>\n",
       "      <td>-14.088454</td>\n",
       "      <td>16.645968</td>\n",
       "      <td>12.995167</td>\n",
       "      <td>-18.682927</td>\n",
       "      <td>1.929929</td>\n",
       "      <td>12.025557</td>\n",
       "      <td>-21.051350</td>\n",
       "    </tr>\n",
       "    <tr>\n",
       "      <th>97</th>\n",
       "      <td>-1.711549</td>\n",
       "      <td>-8.374015</td>\n",
       "      <td>3.653722</td>\n",
       "      <td>7.421742</td>\n",
       "      <td>1.608350</td>\n",
       "      <td>-7.191410</td>\n",
       "      <td>-1.725227</td>\n",
       "      <td>0.757061</td>\n",
       "      <td>10.290587</td>\n",
       "      <td>-9.217666</td>\n",
       "      <td>5.589429</td>\n",
       "      <td>5.530239</td>\n",
       "      <td>-19.298725</td>\n",
       "    </tr>\n",
       "    <tr>\n",
       "      <th>98</th>\n",
       "      <td>-16.383942</td>\n",
       "      <td>-23.988256</td>\n",
       "      <td>0.294151</td>\n",
       "      <td>9.359212</td>\n",
       "      <td>-0.402552</td>\n",
       "      <td>-19.896653</td>\n",
       "      <td>-11.405773</td>\n",
       "      <td>10.207069</td>\n",
       "      <td>9.254246</td>\n",
       "      <td>-10.851344</td>\n",
       "      <td>3.890163</td>\n",
       "      <td>-1.495865</td>\n",
       "      <td>-18.911673</td>\n",
       "    </tr>\n",
       "    <tr>\n",
       "      <th>99</th>\n",
       "      <td>-14.465910</td>\n",
       "      <td>-12.202584</td>\n",
       "      <td>4.083367</td>\n",
       "      <td>11.266225</td>\n",
       "      <td>8.450840</td>\n",
       "      <td>-14.296756</td>\n",
       "      <td>7.209999</td>\n",
       "      <td>16.822160</td>\n",
       "      <td>12.489645</td>\n",
       "      <td>-15.954894</td>\n",
       "      <td>-1.577871</td>\n",
       "      <td>7.405212</td>\n",
       "      <td>-16.707752</td>\n",
       "    </tr>\n",
       "  </tbody>\n",
       "</table>\n",
       "<p>100 rows × 13 columns</p>\n",
       "</div>"
      ],
      "text/plain": [
       "           0          1          2          3         4          5   \\\n",
       "0  -17.332043 -10.018864  10.095356  12.740871 -3.621858   1.435229   \n",
       "1   -1.214274  -6.713947 -10.026963  15.143148  1.385443 -12.023904   \n",
       "2   -5.300827 -10.199131  -4.786038  14.169263  3.078262 -12.826562   \n",
       "3  -12.579714  -8.770980  -1.050312  17.962352  7.322978 -22.386658   \n",
       "4   -0.013586 -16.943772   7.235381  11.738645 -6.254382 -15.745371   \n",
       "..        ...        ...        ...        ...       ...        ...   \n",
       "95  -5.607331 -21.948814   6.461882   7.444693  0.013130  -5.198897   \n",
       "96   4.618977  -6.312395   6.222677  12.000344  0.206963  -6.278012   \n",
       "97  -1.711549  -8.374015   3.653722   7.421742  1.608350  -7.191410   \n",
       "98 -16.383942 -23.988256   0.294151   9.359212 -0.402552 -19.896653   \n",
       "99 -14.465910 -12.202584   4.083367  11.266225  8.450840 -14.296756   \n",
       "\n",
       "           6          7          8          9          10         11  \\\n",
       "0    8.677459   2.229198   5.150060 -14.778093   8.108695  -0.572835   \n",
       "1    6.037941  -8.967004   3.647978 -21.335723   9.732862   0.299266   \n",
       "2    6.066373  -8.887626   5.957349 -13.883918  -1.038342   4.839731   \n",
       "3  -11.665662   4.438202   9.578866 -19.367364  10.445118  13.798773   \n",
       "4  -10.619764  -4.865944  11.419542 -20.124100   2.828259  10.243093   \n",
       "..        ...        ...        ...        ...        ...        ...   \n",
       "95  -8.461769   1.001681   7.118340 -13.157957  -1.406071   6.609123   \n",
       "96 -14.088454  16.645968  12.995167 -18.682927   1.929929  12.025557   \n",
       "97  -1.725227   0.757061  10.290587  -9.217666   5.589429   5.530239   \n",
       "98 -11.405773  10.207069   9.254246 -10.851344   3.890163  -1.495865   \n",
       "99   7.209999  16.822160  12.489645 -15.954894  -1.577871   7.405212   \n",
       "\n",
       "           12  \n",
       "0  -14.696477  \n",
       "1  -15.196394  \n",
       "2   -7.851581  \n",
       "3  -21.389786  \n",
       "4   -4.535998  \n",
       "..        ...  \n",
       "95 -17.820003  \n",
       "96 -21.051350  \n",
       "97 -19.298725  \n",
       "98 -18.911673  \n",
       "99 -16.707752  \n",
       "\n",
       "[100 rows x 13 columns]"
      ]
     },
     "execution_count": 55,
     "metadata": {},
     "output_type": "execute_result"
    }
   ],
   "source": [
    "run_RP(X_smoke, 13, hist=True)"
   ]
  },
  {
   "cell_type": "markdown",
   "id": "2ae42003-eb8f-464d-941b-3585a18b069a",
   "metadata": {},
   "source": [
    "### Step 3"
   ]
  },
  {
   "cell_type": "code",
   "execution_count": null,
   "id": "41a7c304-8391-49bb-a7d5-7668a338a46c",
   "metadata": {},
   "outputs": [],
   "source": [
    "def evaluate_kmeans(km, X, y):\n",
    "    start_time = timeit.default_timer()\n",
    "    km.fit(X, y)\n",
    "    end_time = timeit.default_timer()\n",
    "    training_time = end_time - start_time\n",
    "    \n",
    "    y_mode_vote = cluster_predictions(y,km.labels_)\n",
    "    auc = roc_auc_score(y, y_mode_vote)\n",
    "    f1 = f1_score(y, y_mode_vote)\n",
    "    accuracy = accuracy_score(y, y_mode_vote)\n",
    "    precision = precision_score(y, y_mode_vote)\n",
    "    recall = recall_score(y, y_mode_vote)\n",
    "    cm = confusion_matrix(y, y_mode_vote)\n",
    "\n",
    "    print(\"Model Evaluation Metrics Using Mode Cluster Vote\")\n",
    "    print(\"*****************************************************\")\n",
    "    print(\"Model Training Time (s):   \"+\"{:.2f}\".format(training_time))\n",
    "    print(\"No. Iterations to Converge: {}\".format(km.n_iter_))\n",
    "    print(\"F1 Score:  \"+\"{:.2f}\".format(f1))\n",
    "    print(\"Accuracy:  \"+\"{:.2f}\".format(accuracy)+\"     AUC:       \"+\"{:.2f}\".format(auc))\n",
    "    print(\"Precision: \"+\"{:.2f}\".format(precision)+\"     Recall:    \"+\"{:.2f}\".format(recall))\n",
    "    print(\"*****************************************************\")\n",
    "    plt.figure()\n",
    "    plot_confusion_matrix(cm, classes=[\"0\",\"1\"], title='Confusion Matrix')\n",
    "    plt.show()"
   ]
  },
  {
   "cell_type": "code",
   "execution_count": null,
   "id": "a356b86c-0aa5-41b8-a01c-38e9570525a2",
   "metadata": {},
   "outputs": [],
   "source": [
    "from sklearn.decomposition import PCA, FastICA as ICA\n",
    "from sklearn.random_projection import GaussianRandomProjection as GRP, SparseRandomProjection as RCA\n",
    "from sklearn.metrics import roc_auc_score, accuracy_score, f1_score, precision_score, recall_score, confusion_matrix\n",
    "from sklearn.ensemble import RandomForestClassifier as RFC\n",
    "from itertools import product\n",
    "from collections import defaultdict\n",
    "import timeit\n",
    "import itertools\n",
    "from collections import Counter"
   ]
  },
  {
   "cell_type": "markdown",
   "id": "2e5a3db5-9792-4b9f-bdde-18a2c9f38c92",
   "metadata": {},
   "source": [
    "##### Heart"
   ]
  },
  {
   "cell_type": "code",
   "execution_count": null,
   "id": "b43a5832-fbd3-489d-8b28-c4cd835b050e",
   "metadata": {},
   "outputs": [],
   "source": [
    "def run_RFC(X,y,df_original):\n",
    "    rfc = RFC(n_estimators=500,min_samples_leaf=round(len(X)*.01),random_state=5,n_jobs=-1)\n",
    "    imp = rfc.fit(X,y).feature_importances_\n",
    "    imp = pd.DataFrame(imp,columns=['Feature Importance'],index=df_original.columns[1::])\n",
    "    imp.sort_values(by=['Feature Importance'],inplace=True,ascending=False)\n",
    "    imp['Cum Sum'] = imp['Feature Importance'].cumsum()\n",
    "    imp = imp[imp['Cum Sum']<=0.95]\n",
    "    top_cols = imp.index.tolist()\n",
    "    return imp, top_cols\n",
    "\n",
    "imp_heart, topcols_heart = run_RFC(X_heart,y_heart,heart_df)"
   ]
  },
  {
   "cell_type": "code",
   "execution_count": null,
   "id": "31e7d2e9-8f0e-4d7a-8f32-9fe67e6bbf7a",
   "metadata": {},
   "outputs": [],
   "source": [
    "def cluster_predictions(Y,clusterLabels):\n",
    "    assert (Y.shape == clusterLabels.shape)\n",
    "    pred = np.empty_like(Y)\n",
    "    for label in set(clusterLabels):\n",
    "        mask = clusterLabels == label\n",
    "        sub = Y[mask]\n",
    "        target = Counter(sub).most_common(1)[0][0]\n",
    "        pred[mask] = target\n",
    "#    assert max(pred) == max(Y)\n",
    "#    assert min(pred) == min(Y)    \n",
    "    return pred"
   ]
  },
  {
   "cell_type": "code",
   "execution_count": null,
   "id": "0cd0af84-603c-4531-93ee-29bc07f4607a",
   "metadata": {},
   "outputs": [],
   "source": [
    "def plot_confusion_matrix(cm, classes, normalize=False, title='Confusion Matrix', cmap=plt.cm.Blues):\n",
    "\n",
    "    plt.imshow(cm, interpolation='nearest', cmap=cmap)\n",
    "    plt.title(title)\n",
    "    plt.colorbar()\n",
    "    tick_marks = np.arange(len(classes))\n",
    "    plt.xticks(tick_marks, classes)\n",
    "    plt.yticks(tick_marks, classes)\n",
    "\n",
    "    fmt = '.2f' if normalize else 'd'\n",
    "    thresh = cm.max() / 2.\n",
    "    for i, j in itertools.product(range(2), range(2)):\n",
    "        plt.text(j, i, format(cm[i, j], fmt),\n",
    "                 horizontalalignment=\"center\",\n",
    "                 color=\"white\" if cm[i, j] > thresh else \"black\")\n",
    "\n",
    "    plt.tight_layout()\n",
    "    plt.ylabel('True Label')\n",
    "    plt.xlabel('Predicted Label')"
   ]
  },
  {
   "cell_type": "code",
   "execution_count": null,
   "id": "97ed5548-e018-43c4-bdd7-f5f5d85b8795",
   "metadata": {},
   "outputs": [],
   "source": [
    "# imp_phish, topcols_phish = run_RFC(phishX,phishY,df_phish)\n",
    "pca_phish = PCA(n_components=11,random_state=5).fit_transform(X_heart)\n",
    "ica_phish = ICA(n_components=38,random_state=5).fit_transform(X_heart)\n",
    "rca_phish = ICA(n_components=29,random_state=5).fit_transform(X_heart)\n",
    "rfc_phish = heart_df[topcols_heart]\n",
    "rfc_phish = np.array(rfc_phish.values,dtype='int64')"
   ]
  },
  {
   "cell_type": "code",
   "execution_count": null,
   "id": "1e0fa9be-f669-4fb6-a353-4c679a60c808",
   "metadata": {
    "tags": []
   },
   "outputs": [],
   "source": [
    "evaluate_kmeans(KMeans(n_clusters=14,n_init=10,random_state=100,n_jobs=-1),pca_phish,y_heart)\n",
    "evaluate_kmeans(KMeans(n_clusters=12,n_init=10,random_state=100,n_jobs=-1),ica_phish,y_heart)\n",
    "evaluate_kmeans(KMeans(n_clusters=10,n_init=10,random_state=100,n_jobs=-1),rca_phish,y_heart)\n",
    "evaluate_kmeans(KMeans(n_clusters=14,n_init=10,random_state=100,n_jobs=-1),rfc_phish,y_heart)"
   ]
  },
  {
   "cell_type": "code",
   "execution_count": null,
   "id": "47233292-b37d-4be9-8e60-9585ba3359c4",
   "metadata": {},
   "outputs": [],
   "source": [
    "from sklearn.metrics import silhouette_score\n",
    "from sklearn.metrics.cluster import homogeneity_score\n",
    "import warnings\n",
    "\n",
    "def run_kmeans(X,y,title):\n",
    "    \n",
    "    warnings.filterwarnings(\"ignore\")\n",
    "\n",
    "    kclusters = list(np.arange(2,50,2))\n",
    "    sil_scores = []; f1_scores = []; homo_scores = []; train_times = []\n",
    "\n",
    "    for k in kclusters:\n",
    "        start_time = timeit.default_timer()\n",
    "        km = KMeans(n_clusters=k, n_init=10,random_state=100,n_jobs=-1).fit(X)\n",
    "        end_time = timeit.default_timer()\n",
    "        train_times.append(end_time - start_time)\n",
    "        sil_scores.append(silhouette_score(X, km.labels_))\n",
    "        y_mode_vote = cluster_predictions(y,km.labels_)\n",
    "        f1_scores.append(f1_score(y, y_mode_vote))\n",
    "        homo_scores.append(homogeneity_score(y, km.labels_))\n",
    "        \n",
    "    # elbow curve for silhouette score\n",
    "    fig = plt.figure()\n",
    "    ax = fig.add_subplot(111)\n",
    "    ax.plot(kclusters, sil_scores)\n",
    "    plt.grid(True)\n",
    "    plt.xlabel('No. Clusters')\n",
    "    plt.ylabel('Avg Silhouette Score')\n",
    "    plt.title('Elbow Plot for KMeans: '+ title)\n",
    "    plt.show()\n",
    "   \n",
    "    # plot homogeneity scores\n",
    "    fig = plt.figure()\n",
    "    ax = fig.add_subplot(111)\n",
    "    ax.plot(kclusters, homo_scores)\n",
    "    plt.grid(True)\n",
    "    plt.xlabel('No. Clusters')\n",
    "    plt.ylabel('Homogeneity Score')\n",
    "    plt.title('Homogeneity Scores KMeans: '+ title)\n",
    "    plt.show()"
   ]
  },
  {
   "cell_type": "code",
   "execution_count": null,
   "id": "b9feda5a-eb45-46e1-a167-0ce526ee74fc",
   "metadata": {},
   "outputs": [],
   "source": [
    "run_kmeans(pca_phish,y_heart,'PCA Phishing Data')\n",
    "run_kmeans(ica_phish,y_heart,'ICA Phishing Data')\n",
    "run_kmeans(rca_phish,y_heart,'RCA Phishing Data')\n",
    "run_kmeans(rfc_phish,y_heart,'RFC Phishing Data')"
   ]
  },
  {
   "cell_type": "code",
   "execution_count": null,
   "id": "0e6dbfa5-9556-44c8-b49e-5bf88eb283e2",
   "metadata": {},
   "outputs": [],
   "source": [
    "from sklearn.mixture import GaussianMixture as EM\n",
    "\n",
    "def evaluate_EM(em, X, y):\n",
    "    start_time = timeit.default_timer()\n",
    "    em.fit(X, y)\n",
    "    end_time = timeit.default_timer()\n",
    "    training_time = end_time - start_time\n",
    "    \n",
    "    labels = em.predict(X)\n",
    "    y_mode_vote = cluster_predictions(y,labels)\n",
    "    auc = roc_auc_score(y, y_mode_vote)\n",
    "    f1 = f1_score(y, y_mode_vote)\n",
    "    accuracy = accuracy_score(y, y_mode_vote)\n",
    "    precision = precision_score(y, y_mode_vote)\n",
    "    recall = recall_score(y, y_mode_vote)\n",
    "    cm = confusion_matrix(y, y_mode_vote)\n",
    "\n",
    "    print(\"Model Evaluation Metrics Using Mode Cluster Vote\")\n",
    "    print(\"*****************************************************\")\n",
    "    print(\"Model Training Time (s):   \"+\"{:.2f}\".format(training_time))\n",
    "    print(\"No. Iterations to Converge: {}\".format(em.n_iter_))\n",
    "    print(\"Log-likelihood Lower Bound: {:.2f}\".format(em.lower_bound_))\n",
    "    print(\"F1 Score:  \"+\"{:.2f}\".format(f1))\n",
    "    print(\"Accuracy:  \"+\"{:.2f}\".format(accuracy)+\"     AUC:       \"+\"{:.2f}\".format(auc))\n",
    "    print(\"Precision: \"+\"{:.2f}\".format(precision)+\"     Recall:    \"+\"{:.2f}\".format(recall))\n",
    "    print(\"*****************************************************\")\n",
    "    plt.figure()\n",
    "    plot_confusion_matrix(cm, classes=[\"0\",\"1\"], title='Confusion Matrix')\n",
    "    plt.show()"
   ]
  },
  {
   "cell_type": "code",
   "execution_count": null,
   "id": "9d1989a2-a1d5-4e1b-8cf8-9686c175f6ce",
   "metadata": {},
   "outputs": [],
   "source": [
    "evaluate_EM(EM(n_components=18,covariance_type='diag',n_init=1,warm_start=True,random_state=100),pca_phish,y_heart)\n",
    "evaluate_EM(EM(n_components=28,covariance_type='diag',n_init=1,warm_start=True,random_state=100),ica_phish,y_heart)\n",
    "evaluate_EM(EM(n_components=25,covariance_type='diag',n_init=1,warm_start=True,random_state=100),rca_phish,y_heart)\n",
    "evaluate_EM(EM(n_components=22,covariance_type='diag',n_init=1,warm_start=True,random_state=100),rfc_phish,y_heart)"
   ]
  },
  {
   "cell_type": "code",
   "execution_count": null,
   "id": "96654022-68ae-4931-b66f-01794335f3e6",
   "metadata": {},
   "outputs": [],
   "source": [
    "def run_EM(X,y,title):\n",
    "\n",
    "    #kdist =  [2,3,4,5]\n",
    "    #kdist = list(range(2,51))\n",
    "    kdist = list(np.arange(2,100,5))\n",
    "    sil_scores = []; f1_scores = []; homo_scores = []; train_times = []; aic_scores = []; bic_scores = []\n",
    "    \n",
    "    for k in kdist:\n",
    "        start_time = timeit.default_timer()\n",
    "        em = EM(n_components=k,covariance_type='diag',n_init=1,warm_start=True,random_state=100).fit(X)\n",
    "        end_time = timeit.default_timer()\n",
    "        train_times.append(end_time - start_time)\n",
    "        \n",
    "        labels = em.predict(X)\n",
    "        sil_scores.append(silhouette_score(X, labels))\n",
    "        y_mode_vote = cluster_predictions(y,labels)\n",
    "        f1_scores.append(f1_score(y, y_mode_vote))\n",
    "        homo_scores.append(homogeneity_score(y, labels))\n",
    "        aic_scores.append(em.aic(X))\n",
    "        bic_scores.append(em.bic(X))\n",
    "        \n",
    "    # elbow curve for silhouette score\n",
    "    fig = plt.figure()\n",
    "    ax = fig.add_subplot(111)\n",
    "    ax.plot(kdist, sil_scores)\n",
    "    plt.grid(True)\n",
    "    plt.xlabel('No. Distributions')\n",
    "    plt.ylabel('Avg Silhouette Score')\n",
    "    plt.title('Elbow Plot for EM: '+ title)\n",
    "    plt.show()\n",
    "   \n",
    "    # plot homogeneity scores\n",
    "    fig = plt.figure()\n",
    "    ax = fig.add_subplot(111)\n",
    "    ax.plot(kdist, homo_scores)\n",
    "    plt.grid(True)\n",
    "    plt.xlabel('No. Distributions')\n",
    "    plt.ylabel('Homogeneity Score')\n",
    "    plt.title('Homogeneity Scores EM: '+ title)\n",
    "    plt.show()\n",
    "\n",
    "    # plot f1 scores\n",
    "    fig = plt.figure()\n",
    "    ax = fig.add_subplot(111)\n",
    "    ax.plot(kdist, f1_scores)\n",
    "    plt.grid(True)\n",
    "    plt.xlabel('No. Distributions')\n",
    "    plt.ylabel('F1 Score')\n",
    "    plt.title('F1 Scores EM: '+ title)\n",
    "    plt.show()\n",
    "\n",
    "    # plot model AIC and BIC\n",
    "    fig = plt.figure()\n",
    "    ax = fig.add_subplot(111)\n",
    "    ax.plot(kdist, aic_scores, label='AIC')\n",
    "    ax.plot(kdist, bic_scores,label='BIC')\n",
    "    plt.grid(True)\n",
    "    plt.xlabel('No. Distributions')\n",
    "    plt.ylabel('Model Complexity Score')\n",
    "    plt.title('EM Model Complexity: '+ title)\n",
    "    plt.legend(loc=\"best\")\n",
    "    plt.show()"
   ]
  },
  {
   "cell_type": "code",
   "execution_count": null,
   "id": "23081ca6-8015-4227-9461-552d3571d1fb",
   "metadata": {},
   "outputs": [],
   "source": [
    "run_EM(pca_phish,y_heart,'PCA Phishing Data')\n",
    "run_EM(ica_phish,y_heart,'ICA Phishing Data')\n",
    "run_EM(rca_phish,y_heart,'RCA Phishing Data')\n",
    "run_EM(rfc_phish,y_heart,'RFC Phishing Data')"
   ]
  },
  {
   "cell_type": "markdown",
   "id": "c26af9ea-b70f-4d49-8879-000652c96eba",
   "metadata": {},
   "source": [
    "## Step 4"
   ]
  },
  {
   "cell_type": "code",
   "execution_count": null,
   "id": "877b37e4-7fc3-4417-bc16-7b0ba5641a6c",
   "metadata": {},
   "outputs": [],
   "source": [
    "# WAll clock time\n",
    "train_sizes, train_scores, test_scores, fit_times, _ = learning_curve(\n",
    "        dt,\n",
    "        X,\n",
    "        y,\n",
    "        scoring=\"f1\",\n",
    "        cv=5,\n",
    "        n_jobs=-1,\n",
    "        train_sizes=np.linspace(0.1, 1.0, 5),\n",
    "        return_times=True,\n",
    "    )\n",
    "\n",
    "train_scores_mean = np.mean(train_scores, axis=1)\n",
    "train_scores_std = np.std(train_scores, axis=1)\n",
    "test_scores_mean = np.mean(test_scores, axis=1)\n",
    "test_scores_std = np.std(test_scores, axis=1)\n",
    "fit_times_mean = np.mean(fit_times, axis=1)\n",
    "fit_times_std = np.std(fit_times, axis=1)\n",
    "\n",
    "np.linspace(0.01, 1.0, 50)\n",
    "plt.plot(train_sizes, fit_times_mean, \"o-\")\n",
    "plt.fill_between(\n",
    "    train_sizes,\n",
    "    fit_times_mean - fit_times_std,\n",
    "    fit_times_mean + fit_times_std,\n",
    "    alpha=0.1,\n",
    ")\n",
    "\n",
    "plt.xlabel(\"Training examples\")\n",
    "plt.ylabel(\"fit_times\")\n",
    "plt.title(\"Wall Clock Time\")\n",
    "plt.show()"
   ]
  },
  {
   "cell_type": "code",
   "execution_count": null,
   "id": "f6fd103f-1b6b-4193-8fcf-85fe6b967a77",
   "metadata": {},
   "outputs": [],
   "source": [
    "def plot_learning_curve(clf, X, y, title=\"Insert Title\"):\n",
    "    \n",
    "    n = len(y)\n",
    "    train_mean = []; train_std = [] #model performance score (f1)\n",
    "    cv_mean = []; cv_std = [] #model performance score (f1)\n",
    "    fit_mean = []; fit_std = [] #model fit/training time\n",
    "    pred_mean = []; pred_std = [] #model test/prediction times\n",
    "    train_sizes=(np.linspace(.05, 1.0, 20)*n).astype('int')  \n",
    "    \n",
    "    for i in train_sizes:\n",
    "        idx = np.random.randint(X.shape[0], size=i)\n",
    "        X_subset = X[idx,:]\n",
    "        y_subset = y[idx]\n",
    "        scores = cross_validate(clf, X_subset, y_subset, cv=10, scoring='f1', n_jobs=-1, return_train_score=True)\n",
    "        \n",
    "        train_mean.append(np.mean(scores['train_score'])); train_std.append(np.std(scores['train_score']))\n",
    "        cv_mean.append(np.mean(scores['test_score'])); cv_std.append(np.std(scores['test_score']))\n",
    "        fit_mean.append(np.mean(scores['fit_time'])); fit_std.append(np.std(scores['fit_time']))\n",
    "        pred_mean.append(np.mean(scores['score_time'])); pred_std.append(np.std(scores['score_time']))\n",
    "    \n",
    "    train_mean = np.array(train_mean); train_std = np.array(train_std)\n",
    "    cv_mean = np.array(cv_mean); cv_std = np.array(cv_std)\n",
    "    fit_mean = np.array(fit_mean); fit_std = np.array(fit_std)\n",
    "    pred_mean = np.array(pred_mean); pred_std = np.array(pred_std)\n",
    "    \n",
    "    plot_LC(train_sizes, train_mean, train_std, cv_mean, cv_std, title)\n",
    "    plot_times(train_sizes, fit_mean, fit_std, pred_mean, pred_std, title)\n",
    "    \n",
    "    return train_sizes, train_mean, fit_mean, pred_mean"
   ]
  },
  {
   "cell_type": "code",
   "execution_count": null,
   "id": "0f35a645-9488-4760-a89b-ad76b380ade0",
   "metadata": {},
   "outputs": [],
   "source": [
    "def plot_learning_curve(estimator, title, X, y, axes=None, ylim=None, cv=None, n_jobs=None, scoring=None, train_sizes=np.linspace(0.1, 1.0, 5)):\n",
    "    if axes is None:\n",
    "        _, axes = plt.subplots(1, 3, figsize=(20, 5))\n",
    "\n",
    "    axes[0].set_title(title)\n",
    "    if ylim is not None:\n",
    "        axes[0].set_ylim(*ylim)\n",
    "    axes[0].set_xlabel(\"Training examples\")\n",
    "    axes[0].set_ylabel(\"Score\")\n",
    "\n",
    "    train_sizes, train_scores, test_scores, fit_times, _ = learning_curve(\n",
    "        estimator,\n",
    "        X,\n",
    "        y,\n",
    "        scoring=scoring,\n",
    "        cv=cv,\n",
    "        n_jobs=n_jobs,\n",
    "        train_sizes=train_sizes,\n",
    "        return_times=True,\n",
    "    )\n",
    "    \n",
    "    train_scores_mean = np.mean(train_scores, axis=1)\n",
    "    train_scores_std = np.std(train_scores, axis=1)\n",
    "    test_scores_mean = np.mean(test_scores, axis=1)\n",
    "    test_scores_std = np.std(test_scores, axis=1)\n",
    "    fit_times_mean = np.mean(fit_times, axis=1)\n",
    "    fit_times_std = np.std(fit_times, axis=1)\n",
    "\n",
    "    # Plot learning curve\n",
    "    axes[0].grid()\n",
    "    axes[0].fill_between(\n",
    "        train_sizes,\n",
    "        train_scores_mean - train_scores_std,\n",
    "        train_scores_mean + train_scores_std,\n",
    "        alpha=0.1,\n",
    "        color=\"r\",\n",
    "    )\n",
    "    \n",
    "    axes[0].fill_between(\n",
    "        train_sizes,\n",
    "        test_scores_mean - test_scores_std,\n",
    "        test_scores_mean + test_scores_std,\n",
    "        alpha=0.1,\n",
    "        color=\"g\",\n",
    "    )\n",
    "    \n",
    "    axes[0].plot(\n",
    "        train_sizes, train_scores_mean, \"o-\", color=\"r\", label=\"Training score\"\n",
    "    )\n",
    "    \n",
    "    axes[0].plot(\n",
    "        train_sizes, test_scores_mean, \"o-\", color=\"g\", label=\"Cross-validation score\"\n",
    "    )\n",
    "    \n",
    "    axes[0].legend(loc=\"best\")\n",
    "\n",
    "    # Plot n_samples vs fit_times\n",
    "    axes[1].grid()\n",
    "    axes[1].plot(train_sizes, fit_times_mean, \"o-\")\n",
    "    axes[1].fill_between(\n",
    "        train_sizes,\n",
    "        fit_times_mean - fit_times_std,\n",
    "        fit_times_mean + fit_times_std,\n",
    "        alpha=0.1,\n",
    "    )\n",
    "    \n",
    "    axes[1].set_xlabel(\"Training examples\")\n",
    "    axes[1].set_ylabel(\"fit_times\")\n",
    "    axes[1].set_title(\"Scalability of the model\")\n",
    "\n",
    "    # Plot fit_time vs score\n",
    "    fit_time_argsort = fit_times_mean.argsort()\n",
    "    fit_time_sorted = fit_times_mean[fit_time_argsort]\n",
    "    test_scores_mean_sorted = test_scores_mean[fit_time_argsort]\n",
    "    test_scores_std_sorted = test_scores_std[fit_time_argsort]\n",
    "    axes[2].grid()\n",
    "    axes[2].plot(fit_time_sorted, test_scores_mean_sorted, \"o-\")\n",
    "    axes[2].fill_between(\n",
    "        fit_time_sorted,\n",
    "        test_scores_mean_sorted - test_scores_std_sorted,\n",
    "        test_scores_mean_sorted + test_scores_std_sorted,\n",
    "        alpha=0.1,\n",
    "    )\n",
    "    \n",
    "    axes[2].set_xlabel(\"fit_times\")\n",
    "    axes[2].set_ylabel(\"Score\")\n",
    "    axes[2].set_title(\"Performance of the model\")\n",
    "\n",
    "    return plt"
   ]
  },
  {
   "cell_type": "code",
   "execution_count": null,
   "id": "c7049af3-df7e-48bb-844b-570c18069894",
   "metadata": {},
   "outputs": [],
   "source": [
    "from sklearn.neural_network import MLPClassifier\n",
    "from sklearn.model_selection import cross_validate, train_test_split, GridSearchCV\n",
    "\n",
    "# Original, full dataset\n",
    "warnings.filterwarnings(\"ignore\")\n",
    "X_train, X_test, y_train, y_test = train_test_split(np.array(X_heart),np.array(y_heart), test_size=0.20)\n",
    "full_est = MLPClassifier(hidden_layer_sizes=(50,), solver='adam', activation='logistic', learning_rate_init=0.01, random_state=100)\n",
    "plot_learning_curve(full_est, \"Neural Net Phishing: Full\", X_train, y_train)\n",
    "plt.show()"
   ]
  },
  {
   "cell_type": "code",
   "execution_count": null,
   "id": "0795c5ad-3bd7-410a-867c-949958abb61e",
   "metadata": {},
   "outputs": [],
   "source": [
    "X_train, X_test, y_train, y_test = train_test_split(np.array(pca_phish),np.array(y_heart), test_size=0.20)\n",
    "pca_est = MLPClassifier(hidden_layer_sizes=(50,), solver='adam', activation='logistic', learning_rate_init=0.01, random_state=100)\n",
    "plot_learning_curve(pca_est, \"Neural Net Phishing: PCA\", X_train, y_train)"
   ]
  },
  {
   "cell_type": "code",
   "execution_count": null,
   "id": "c7522f0e-7581-4004-a2f5-c2a7aa7c2c38",
   "metadata": {},
   "outputs": [],
   "source": [
    "X_train, X_test, y_train, y_test = train_test_split(np.array(ica_phish),np.array(y_heart), test_size=0.20)\n",
    "ica_est = MLPClassifier(hidden_layer_sizes=(50,), solver='adam', activation='logistic', learning_rate_init=0.01, random_state=100)\n",
    "plot_learning_curve(ica_est, \"Neural Net Phishing: ICA\", X_train, y_train)"
   ]
  },
  {
   "cell_type": "code",
   "execution_count": null,
   "id": "6cfcbe78-c45a-4f7d-93fd-543d33be1470",
   "metadata": {},
   "outputs": [],
   "source": [
    "X_train, X_test, y_train, y_test = train_test_split(np.array(rca_phish),np.array(y_heart), test_size=0.20)\n",
    "rca_est = MLPClassifier(hidden_layer_sizes=(50,), solver='adam', activation='logistic', learning_rate_init=0.01, random_state=100)\n",
    "plot_learning_curve(rca_est, \"Neural Net Phishing: RCA\", X_train, y_train)"
   ]
  },
  {
   "cell_type": "code",
   "execution_count": null,
   "id": "f3a9c155-4eeb-4c59-8e79-b9ea584d23fc",
   "metadata": {},
   "outputs": [],
   "source": [
    "X_train, X_test, y_train, y_test = train_test_split(np.array(rfc_phish),np.array(y_heart), test_size=0.20)\n",
    "rfc_est = MLPClassifier(hidden_layer_sizes=(50,), solver='adam', activation='logistic', learning_rate_init=0.01, random_state=100)\n",
    "plot_learning_curve(rfc_est, \"Neural Net Phishing: RFC\", X_train, y_train)"
   ]
  },
  {
   "cell_type": "markdown",
   "id": "375b6fce-84ab-4559-9cab-0a3848a271fb",
   "metadata": {},
   "source": [
    "## Step 5"
   ]
  },
  {
   "cell_type": "code",
   "execution_count": null,
   "id": "6ea36f2e-242b-47d0-9583-1a0b306b8f33",
   "metadata": {},
   "outputs": [],
   "source": [
    "def addclusters(X,km_lables,em_lables):\n",
    "    \n",
    "    df = pd.DataFrame(X)\n",
    "    df['KM Cluster'] = km_labels\n",
    "    df['EM Cluster'] = em_labels\n",
    "    col_1hot = ['KM Cluster', 'EM Cluster']\n",
    "    df_1hot = df[col_1hot]\n",
    "    df_1hot = pd.get_dummies(df_1hot).astype('category')\n",
    "    df_others = df.drop(col_1hot,axis=1)\n",
    "    df = pd.concat([df_others,df_1hot],axis=1)\n",
    "    new_X = np.array(df.values,dtype='int64')   \n",
    "    \n",
    "    return new_X"
   ]
  },
  {
   "cell_type": "code",
   "execution_count": null,
   "id": "a8d7edd2-e0eb-4c5b-be5c-df9b578db019",
   "metadata": {},
   "outputs": [],
   "source": [
    "km = KMeans(n_clusters=9,n_init=10,random_state=100,n_jobs=-1).fit(X_heart)\n",
    "km_labels = km.labels_\n",
    "em = EM(n_components=24,covariance_type='diag',n_init=1,warm_start=True,random_state=100).fit(X_heart)\n",
    "em_labels = em.predict(X_heart)\n",
    "\n",
    "clust_full = addclusters(X_heart,km_labels,em_labels)\n",
    "clust_pca = addclusters(pca_phish,km_labels,em_labels)\n",
    "clust_ica = addclusters(ica_phish,km_labels,em_labels)\n",
    "clust_rca = addclusters(rca_phish,km_labels,em_labels)\n",
    "clust_rfc = addclusters(rfc_phish,km_labels,em_labels)"
   ]
  },
  {
   "cell_type": "code",
   "execution_count": null,
   "id": "365b6f26-d4df-4e3f-9511-4706af836155",
   "metadata": {},
   "outputs": [],
   "source": [
    "# Original, full dataset\n",
    "X_train, X_test, y_train, y_test = train_test_split(np.array(clust_full),np.array(y_heart), test_size=0.20)\n",
    "full_est = MLPClassifier(hidden_layer_sizes=(50,), solver='adam', activation='logistic', learning_rate_init=0.01, random_state=100)\n",
    "plot_learning_curve(full_est, \"Neural Net Phishing with Clusters: Full\", X_train, y_train)"
   ]
  },
  {
   "cell_type": "code",
   "execution_count": null,
   "id": "136a601a-1fed-4d9f-98f4-e983d0177036",
   "metadata": {},
   "outputs": [],
   "source": [
    "X_train, X_test, y_train, y_test = train_test_split(np.array(clust_pca),np.array(y_heart), test_size=0.20)\n",
    "pca_est = MLPClassifier(hidden_layer_sizes=(50,), solver='adam', activation='logistic', learning_rate_init=0.01, random_state=100)\n",
    "plot_learning_curve(pca_est, \"Neural Net Phishing with Clusters: PCA\", X_train, y_train)"
   ]
  },
  {
   "cell_type": "code",
   "execution_count": null,
   "id": "a33764fb-214b-4ca9-aabf-4f019981a7ea",
   "metadata": {},
   "outputs": [],
   "source": [
    "X_train, X_test, y_train, y_test = train_test_split(np.array(clust_ica),np.array(y_heart), test_size=0.20)\n",
    "ica_est = MLPClassifier(hidden_layer_sizes=(50,), solver='adam', activation='logistic', learning_rate_init=0.01, random_state=100)\n",
    "plot_learning_curve(ica_est, \"Neural Net Phishing with Clusters: ICA\", X_train, y_train)"
   ]
  },
  {
   "cell_type": "code",
   "execution_count": null,
   "id": "109eae73-db96-4a17-900e-f57537b9287e",
   "metadata": {},
   "outputs": [],
   "source": [
    "X_train, X_test, y_train, y_test = train_test_split(np.array(clust_rca),np.array(y_heart), test_size=0.20)\n",
    "rca_est = MLPClassifier(hidden_layer_sizes=(50,), solver='adam', activation='logistic', learning_rate_init=0.01, random_state=100)\n",
    "plot_learning_curve(rca_est, \"Neural Net Phishing with Clusters: RCA\", X_train, y_train)"
   ]
  },
  {
   "cell_type": "code",
   "execution_count": null,
   "id": "bb0d94c7-811e-4c18-9d01-b7cece7b1a99",
   "metadata": {},
   "outputs": [],
   "source": [
    "X_train, X_test, y_train, y_test = train_test_split(np.array(clust_rfc),np.array(y_heart), test_size=0.20)\n",
    "rfc_est = MLPClassifier(hidden_layer_sizes=(50,), solver='adam', activation='logistic', learning_rate_init=0.01, random_state=100)\n",
    "plot_learning_curve(rfc_est, \"Neural Net Phishing with Clusters: RFC\", X_train, y_train)"
   ]
  },
  {
   "cell_type": "code",
   "execution_count": null,
   "id": "337414f1-1e2f-4ab8-9dc4-9f9060cdfb2b",
   "metadata": {},
   "outputs": [],
   "source": []
  }
 ],
 "metadata": {
  "kernelspec": {
   "display_name": "Python 3 (ipykernel)",
   "language": "python",
   "name": "python3"
  },
  "language_info": {
   "codemirror_mode": {
    "name": "ipython",
    "version": 3
   },
   "file_extension": ".py",
   "mimetype": "text/x-python",
   "name": "python",
   "nbconvert_exporter": "python",
   "pygments_lexer": "ipython3",
   "version": "3.9.7"
  }
 },
 "nbformat": 4,
 "nbformat_minor": 5
}
